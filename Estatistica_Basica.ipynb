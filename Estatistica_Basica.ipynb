{
  "nbformat": 4,
  "nbformat_minor": 0,
  "metadata": {
    "colab": {
      "name": "Estatistica Basica ",
      "private_outputs": true,
      "provenance": [],
      "authorship_tag": "ABX9TyPfqRhmBj/j1vnRLFciFHhS",
      "include_colab_link": true
    },
    "kernelspec": {
      "name": "python3",
      "display_name": "Python 3"
    },
    "language_info": {
      "name": "python"
    }
  },
  "cells": [
    {
      "cell_type": "markdown",
      "metadata": {
        "id": "view-in-github",
        "colab_type": "text"
      },
      "source": [
        "<a href=\"https://colab.research.google.com/github/Rafaelfyh/Projeto1-rafael-deveaprender/blob/main/Estatistica_Basica.ipynb\" target=\"_parent\"><img src=\"https://colab.research.google.com/assets/colab-badge.svg\" alt=\"Open In Colab\"/></a>"
      ]
    },
    {
      "cell_type": "markdown",
      "source": [
        ""
      ],
      "metadata": {
        "id": "9IiedKo191uY"
      }
    },
    {
      "cell_type": "markdown",
      "source": [
        "MÉDIA\n"
      ],
      "metadata": {
        "id": "dnwSsiwE9wGI"
      }
    },
    {
      "cell_type": "code",
      "execution_count": null,
      "metadata": {
        "id": "Qszuqy269qd5"
      },
      "outputs": [],
      "source": [
        "notas = [7, 8, 6, 10]\n",
        "soma = sum(notas)\n",
        "media = soma/len(notas)\n",
        "print(f'média do aluno foi: {media}')\n"
      ]
    },
    {
      "cell_type": "markdown",
      "source": [
        "MÉDIA DE ENDIVIDAMENTO"
      ],
      "metadata": {
        "id": "l5grwxQrAyCb"
      }
    },
    {
      "cell_type": "code",
      "source": [
        "endividamento = [25, 51, 75, 41, 55, 13]\n",
        "def calcular_media(vetor):\n",
        "  return sum(vetor)/len(vetor)\n",
        "\n",
        "print(f'A média do endividamento das empresas foi: {calcular_media(endividamento)}')\n"
      ],
      "metadata": {
        "id": "nst8WiyqBa5y"
      },
      "execution_count": null,
      "outputs": []
    },
    {
      "cell_type": "markdown",
      "source": [
        "Exemplo Vamos supor que a loja registrou o seguinte resultado quanto a venda de 4 produtos, em determinado dia: R$ 10, R$17, R$13, R$15 Calculemos a média\n"
      ],
      "metadata": {
        "id": "6AUvRaslVd4p"
      }
    },
    {
      "cell_type": "code",
      "source": [
        "vendas = [10, 17, 13, 15]\n",
        "calcular_media(vendas)\n"
      ],
      "metadata": {
        "id": "FMLC9O2xbGeE"
      },
      "execution_count": null,
      "outputs": []
    }
  ]
}