{
  "nbformat": 4,
  "nbformat_minor": 0,
  "metadata": {
    "colab": {
      "name": "Untitled0.ipynb",
      "private_outputs": true,
      "provenance": [],
      "collapsed_sections": [],
      "authorship_tag": "ABX9TyOav1Fgvg/kwHL53aPPDToa",
      "include_colab_link": true
    },
    "kernelspec": {
      "name": "python3",
      "display_name": "Python 3"
    },
    "language_info": {
      "name": "python"
    }
  },
  "cells": [
    {
      "cell_type": "markdown",
      "metadata": {
        "id": "view-in-github",
        "colab_type": "text"
      },
      "source": [
        "<a href=\"https://colab.research.google.com/github/Rafaelfyh/Projeto1-rafael-deveaprender/blob/main/Untitled0.ipynb\" target=\"_parent\"><img src=\"https://colab.research.google.com/assets/colab-badge.svg\" alt=\"Open In Colab\"/></a>"
      ]
    },
    {
      "cell_type": "code",
      "execution_count": null,
      "metadata": {
        "id": "4GC0K-vfvLFz"
      },
      "outputs": [],
      "source": [
        "# conjunto de dados \n",
        "# import nump\n",
        "# variancia\n",
        "\n",
        "\n",
        "import numpy as np\n",
        "\n",
        "\n",
        "a = np.array([[96, 96, 102, 102, 102, 104, 104, 108, 126, 126, 128, 128, 140, 156, 160,\n",
        "160, 164, 170], [99, 97, 103, 106, 105, 107, 108, 112, 127, 129, 130, 132, 143, 161, 162,\n",
        "164, 169, 174]])\n",
        "np.std(a)\n"
      ]
    },
    {
      "cell_type": "code",
      "source": [
        "import numpy as np\n",
        "\n",
        "b = [99, 97, 103, 106, 105, 107, 108, 112, 127, 129, 130, 132, 143, 161, 162,\n",
        "164, 169, 174]\n",
        "\n",
        "Q25 = np.percentile(b,25)\n",
        "med = np.median(b)\n",
        "print(med)\n",
        "Q25\n"
      ],
      "metadata": {
        "id": "CLCsPZfFTE2K"
      },
      "execution_count": null,
      "outputs": []
    },
    {
      "cell_type": "code",
      "source": [
        "#histograma \n",
        "#bins\n",
        "\n",
        "import matplotlib.pyplot as plt\n",
        "\n",
        "plt.hist(b, bins = 4)\n",
        "pt.ylabel('Frequencia')\n",
        "plt.xlabel('Ressistência à tração [kn]')\n",
        "plt.show()\n"
      ],
      "metadata": {
        "id": "7Nnc7dmAaprn"
      },
      "execution_count": null,
      "outputs": []
    },
    {
      "cell_type": "code",
      "source": [
        "#média\n",
        "\n",
        "import numpy as np\n",
        "media = np.sum(a)/len(a)\n",
        "print(media)\n"
      ],
      "metadata": {
        "id": "keEegitpjUlM"
      },
      "execution_count": null,
      "outputs": []
    },
    {
      "cell_type": "code",
      "source": [
        "# media 2\n",
        "import numpy as np\n",
        "media = np.sum(a)*len(a)\n",
        "print(media)"
      ],
      "metadata": {
        "id": "5R5nFlMFvulu"
      },
      "execution_count": null,
      "outputs": []
    },
    {
      "cell_type": "code",
      "source": [
        "# Valor máximo, mínimo e intervalo\n",
        "valor_maximo = np.max(b)\n",
        "valor_minimo = np.min(b)\n",
        "intervalo = valor_maximo - valor_minimo\n",
        "\n",
        "# Variancia e desvio padrão\n",
        "media = np.mean(b)\n",
        "n = len(b)\n",
        "diferencas = b - media\n",
        "variancia = np.sum(diferencas * diferencas) / (n - 1)\n",
        "desvio_padrao = np.sqrt(variancia)\n",
        "\n",
        "# Validação\n",
        "print (valor_minimo)\n",
        "print (valor_maximo)\n",
        "print (intervalo)\n",
        "print (desvio_padrao)\n",
        "print (variancia)"
      ],
      "metadata": {
        "id": "DNqIPpQ-0kl7"
      },
      "execution_count": null,
      "outputs": []
    },
    {
      "cell_type": "code",
      "source": [
        "# Valor máximo, mínimo e intervalo\n",
        "valor_maximo = np.max(b)\n",
        "valor_minimo = np.min(b)\n",
        "intervalo = valor_maximo - valor_minimo\n",
        "\n",
        "# Variancia e desvio padrão\n",
        "media = np.mean(b)\n",
        "n = len(b)\n",
        "diferencas = b - media\n",
        "variancia = np.sum(diferencas * diferencas) / (n - 1)\n",
        "desvio_padrao = np.sqrt(variancia)\n",
        "\n",
        "# Validação\n",
        "print (valor_minimo)\n",
        "print (valor_maximo)\n",
        "print (intervalo)\n",
        "print (desvio_padrao)\n",
        "print (variancia)"
      ],
      "metadata": {
        "id": "azpjrg_31EjS"
      },
      "execution_count": null,
      "outputs": []
    },
    {
      "cell_type": "code",
      "source": [
        "# Valor máximo, mínimo e intervalo\n",
        "valor_maximo = np.max(b)\n",
        "valor_minimo = np.min(b)\n",
        "intervalo = valor_maximo - valor_minimo\n",
        "\n",
        "# Variancia e desvio padrão\n",
        "media = np.mean(b)\n",
        "n = len(b)\n",
        "diferencas = b - media\n",
        "variancia = np.sum(diferencas * diferencas) / (n + 1)\n",
        "desvio_padrao = np.sqrt(variancia)\n",
        "\n",
        "# Validação\n",
        "print (valor_minimo)\n",
        "print (valor_maximo)\n",
        "print (intervalo)\n",
        "print (desvio_padrao)\n",
        "print (variancia)"
      ],
      "metadata": {
        "id": "sm9anEaL8jBS"
      },
      "execution_count": null,
      "outputs": []
    }
  ]
}