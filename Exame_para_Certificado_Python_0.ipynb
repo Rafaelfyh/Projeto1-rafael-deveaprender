{
  "nbformat": 4,
  "nbformat_minor": 0,
  "metadata": {
    "colab": {
      "name": "Exame para Certificado Python 0",
      "private_outputs": true,
      "provenance": [],
      "authorship_tag": "ABX9TyOy1Ffmth0dZD9YhG9x6ABY",
      "include_colab_link": true
    },
    "kernelspec": {
      "name": "python3",
      "display_name": "Python 3"
    },
    "language_info": {
      "name": "python"
    }
  },
  "cells": [
    {
      "cell_type": "markdown",
      "metadata": {
        "id": "view-in-github",
        "colab_type": "text"
      },
      "source": [
        "<a href=\"https://colab.research.google.com/github/Rafaelfyh/Projeto1-rafael-deveaprender/blob/main/Exame_para_Certificado_Python_0.ipynb\" target=\"_parent\"><img src=\"https://colab.research.google.com/assets/colab-badge.svg\" alt=\"Open In Colab\"/></a>"
      ]
    },
    {
      "cell_type": "markdown",
      "source": [
        "Questão 1 - Considerando o processo a segui, selecione o output esperado: Lista1 = [1,2,3,4,5] Lista2 = [1,2,3,4,5] Lista3 = Lista1 + Lista2 print(Lista3)"
      ],
      "metadata": {
        "id": "usCaPnj-xMU1"
      }
    },
    {
      "cell_type": "code",
      "execution_count": null,
      "metadata": {
        "id": "GpGt8PICwYSE"
      },
      "outputs": [],
      "source": [
        "l1 = [1, 2, 3, 4, 5]\n",
        "l2 = [1, 2, 3, 4, 5]\n",
        "l3 = []\n",
        "\n",
        "for i, lista in enumerate(l1):\n",
        "  l3.append(l1[i] + l2[i])\n",
        "  print(f'{l1[i]} + {l2[i]} = {l3[i]}')\n",
        "print(l3)"
      ]
    },
    {
      "cell_type": "markdown",
      "source": [
        "Questão 2"
      ],
      "metadata": {
        "id": "X1j6Bh0gxGDh"
      }
    },
    {
      "cell_type": "markdown",
      "source": [
        "Considerando o código abaixo: def Z x (lista1,lista2,x): z=0 for a in lista1: if a ==x: z+=1 for b in lista2: if b==x: z+=1 return z a =['dnc','abc','bnc','mnc','dnc','bnc','Dnc','ncd','dnc','dncdnc','ddnc'] b = ['dnc','abc','bnc','mnc','dnc','bnc','Dnc','ncd','dnc','dncdnc','ddnc','xms','cds','dn','cdn','dnc','xml','a'] y = Z_x(a,b,'dnc') print(y)"
      ],
      "metadata": {
        "id": "5qAs-mMVxJhw"
      }
    },
    {
      "cell_type": "code",
      "source": [
        "def Z  (lista1,lista2,x): \n",
        "  z=0 \n",
        "  for a in lista1: \n",
        "    if a ==x: z+=1 \n",
        "  for b in lista2: \n",
        "    if b==x: z+=1 \n",
        "  return z\n",
        "a =['dnc','abc','bnc','mnc','dnc','bnc','Dnc','ncd','dnc','dncdnc','ddnc']\n",
        "b = ['dnc','abc','bnc','mnc','dnc','bnc','Dnc','ncd','dnc','dncdnc','ddnc','xms','cds','dn','cdn','dnc','xml','a'] \n",
        "y = Z(a,b,'dnc')\n",
        "print(y)\n",
        "\n"
      ],
      "metadata": {
        "id": "d3QSjVezxJN5"
      },
      "execution_count": null,
      "outputs": []
    },
    {
      "cell_type": "markdown",
      "source": [
        "Questão 3 \n",
        "Considerando o código abaixo: a =['dnc','abc','bnc','mnc','dnc','bnc','Dnc','ncd','dnc','dncdnc','ddnc'] b =['dnc','abc','bnc','mnc','dnc','bnc','Dnc','ncd','dnc','dncdnc','ddnc','xms','cds','dn','cdn','dnc','xml','a'] def contador_x (lista1,lista2,x): contador=0 for a,b in zip(lista1,lista2): if a ==x and b==x: break else: contador+=1 return contador y = contador_x(a,b,'dnc') print(y)​O código acima:\n",
        "\n"
      ],
      "metadata": {
        "id": "NiLA6bb0yIsg"
      }
    },
    {
      "cell_type": "code",
      "source": [
        "a =['dnc','abc','bnc','mnc','dnc','bnc','Dnc','ncd','dnc','dncdnc','ddnc']\n",
        "b =['dnc','abc','bnc','mnc','dnc','bnc','Dnc','ncd','dnc','dncdnc','ddnc','xms','cds','dn','cdn','dnc','xml','a']\n",
        "def contador_x (lista1,lista2,x): \n",
        "  contador= 0 \n",
        "  for a,b in zip(lista1,lista2): \n",
        "    if a ==x and b==x: \n",
        "      break \n",
        "    else:\n",
        "       contador+=1 \n",
        "  return contador \n",
        "y = contador_x(a,b,'dnc') \n",
        "print(y)"
      ],
      "metadata": {
        "id": "yjmt-Rg8yUVB"
      },
      "execution_count": null,
      "outputs": []
    },
    {
      "cell_type": "markdown",
      "source": [
        "Questão 4 - Assinale o código capaz de ordenar a lista abaixo. lista = [77,80,90,23,44,15,11,25,68,14,22,99]\n"
      ],
      "metadata": {
        "id": "BD5LK3bh2Obc"
      }
    },
    {
      "cell_type": "code",
      "source": [
        "lista = [77,80,90,23,44,15,11,25,68,14,22,99]\n",
        "\n",
        "sorted(lista)\n",
        "print(sorted(lista))\n"
      ],
      "metadata": {
        "id": "0d_1rdER2SAD"
      },
      "execution_count": null,
      "outputs": []
    },
    {
      "cell_type": "markdown",
      "source": [
        "Questão 5 - Em busca de retornar o nome completo dos usuários, tendo como base o dicionário a seguir, o Caio rodou o seguinte código: dicionario={'pessoa_1':{'nome':'Peterson','sobrenome':'Almeida'}, 'pessoa_2':{'nome':'Maria','sobrenome':'Silva'}, 'pessoa_3':{'nome':'Jose','sobrenome':'Santos'}} nome_completo=[] for a,b in dicionario.items(): nome_completo.append(str(b['nome'])'+'str(b['sobrenome'])) print(nome_completo) O erro presente no código se dá por:"
      ],
      "metadata": {
        "id": "dE63Ag1Q4Adx"
      }
    },
    {
      "cell_type": "code",
      "source": [
        "pessoas = [{'nome':'Peterson','sobrenome':'Almeida'},\n",
        "          {'nome':'Maria','sobrenome':'Silva'}, \n",
        "          {'nome':'Jose','sobrenome':'Santos'}]\n",
        "   pessoas = [] for a,b in \n",
        "   dicionario.items(): \n",
        "   pessoas.append(str(b['nome'])'+'str(b['sobrenome'])) \n",
        "   \n",
        "   print(pessoas)\n",
        "\n",
        "  \n",
        "\n",
        "\n",
        "\n",
        "            "
      ],
      "metadata": {
        "id": "3rgAeirZ4DUr"
      },
      "execution_count": null,
      "outputs": []
    },
    {
      "cell_type": "markdown",
      "source": [
        "Questão 6 - Dado o código: altura = 1.75 peso = 79.2 IMC = peso/altura**2 print('{:.2f}'.format(IMC)) O Output esperado é:"
      ],
      "metadata": {
        "id": "mk20EgOmZwtV"
      }
    },
    {
      "cell_type": "code",
      "source": [
        "altura = 1.75 \n",
        "peso = 79.2\n",
        "\n",
        "IMC = peso/altura**2\n",
        "print('{:.2f}'.format(IMC))"
      ],
      "metadata": {
        "id": "kipCinYeZ1R1"
      },
      "execution_count": null,
      "outputs": []
    },
    {
      "cell_type": "markdown",
      "source": [
        "Questão 7 - No código a seguir, c representa o que? a = '10' b = '3' c = int(a)%int(b) print(c)"
      ],
      "metadata": {
        "id": "owDTRhOnXHgp"
      }
    },
    {
      "cell_type": "code",
      "source": [
        "a = '10'\n",
        "b = '3'\n",
        "c = int(a)%int(b) \n",
        "print(c)"
      ],
      "metadata": {
        "id": "qfBmLwLEXS2c"
      },
      "execution_count": null,
      "outputs": []
    },
    {
      "cell_type": "markdown",
      "source": [
        "Questão 8 - Dada a lista abaixo, selecione a alternativa na qual mostra o comando para imprimir o 6º termo da lista, e o valor esperado. a =['dnc','abc','bnc','mnc','dnc','bnc','Dnc','ncd','dnc','dncdnc','ddnc']"
      ],
      "metadata": {
        "id": "7J_kWJ7I69s5"
      }
    },
    {
      "cell_type": "code",
      "source": [
        " a =['dnc','abc','bnc','mnc','dnc','bnc','Dnc','ncd','dnc','dncdnc','ddnc']\n",
        " \n",
        " print(a[5])\n"
      ],
      "metadata": {
        "id": "3lk_svx468mg"
      },
      "execution_count": null,
      "outputs": []
    },
    {
      "cell_type": "markdown",
      "source": [
        "Questão 9 - Considere o seguinte comando: lista = [10,2,30,23,12,42,543,24,33,34,123.5,1231,53,123,6456,234,45] X = 0 for i in lista: X += i print(X)"
      ],
      "metadata": {
        "id": "pNie8YLR8FYo"
      }
    },
    {
      "cell_type": "code",
      "source": [
        "lista = [10,2,30,23,12,42,543,24,33,34,123.5,1231,53,123,6456,234,45] \n",
        "\n",
        "X = 0  \n",
        "for i in lista:\n",
        "     X += i\n",
        "print(X)"
      ],
      "metadata": {
        "id": "lxPn7RiE8EsT"
      },
      "execution_count": null,
      "outputs": []
    },
    {
      "cell_type": "markdown",
      "source": [
        "Questão 10 - Considere o seguinte comando: lista = [13,2,19,11,7,9,19,16,17,7,7,10,1,6,'dnc',18,2,11,2,9,10] X=0 i=0 while True: if lista[i] == 'dnc': break if lista[i]%2 == 1: X += lista[i] i += 1 print(X)"
      ],
      "metadata": {
        "id": "MhbrZGBOWxNJ"
      }
    },
    {
      "cell_type": "code",
      "source": [
        "lista = [13,2,19,11,7,9,19,16,17,7,7,10,1,6,'dnc',18,2,11,2,9,10] \n",
        "X=0 \n",
        "i=0 \n",
        "while True: \n",
        "  if lista[i] == 'dnc': \n",
        "    break \n",
        "  if lista[i]%2 == 1: \n",
        "    X += lista[i] \n",
        "  i += 1 \n",
        "print(X)"
      ],
      "metadata": {
        "id": "1XIETH3oW5FD"
      },
      "execution_count": null,
      "outputs": []
    },
    {
      "cell_type": "markdown",
      "source": [
        "Considere o código abaixo ou o representado na imagem. Com base em suas análises, selecione a resposta correta. [Clique na imagem para expandir] a= 59 b= 7 print (“O resultado da divisão de { } por { }, resulta em {:6.4f } e o resto dessa divisão é { }”. format (a,b,a/b, a%b))"
      ],
      "metadata": {
        "id": "qSoP9dPvqVFB"
      }
    },
    {
      "cell_type": "code",
      "source": [
        "a=59;\n",
        "b=7;\n",
        "print('O resultado da divisão de {} por {}, resulta em {:6.4f} e o resto dessa divisao é {}'.format(a,b,a/b,a%b))"
      ],
      "metadata": {
        "id": "jMH2bn9FrGNS"
      },
      "execution_count": null,
      "outputs": []
    },
    {
      "cell_type": "markdown",
      "source": [
        "Qual seria o resultado do código representado na imagem? [Clique na imagem para expandir]"
      ],
      "metadata": {
        "id": "FPr5UIbEtYnU"
      }
    },
    {
      "cell_type": "code",
      "source": [
        " \n",
        "t1 = ('Banana', 'Abacate', 'morango') \n",
        "posicao = t1.index('morango')\n",
        "terceiroelemento = t1[2] \n",
        "print(posicao, terceiroelemento)"
      ],
      "metadata": {
        "id": "3bncmRGwtZ0N"
      },
      "execution_count": null,
      "outputs": []
    },
    {
      "cell_type": "code",
      "source": [
        "#soma media\n",
        "a = [3, 6, 8, 2, 5, 4, 9, 1, 2, 13, 6, 10, 7, 14]\n",
        "\n",
        "sum(a)/len(a)"
      ],
      "metadata": {
        "id": "vh70qp1t1s3x"
      },
      "execution_count": null,
      "outputs": []
    },
    {
      "cell_type": "code",
      "source": [
        "#porcentagem\n",
        "\n",
        "l1 = [0, 1, 1, 1, 0, 0, 0, 1, 0, 1, 1, 1, 0, 1, 0, 1, 0, 1, 1, 0, 0, 1, 0, 1, 0, 1, 1, 1, 0, 0, 1, 0, 0, 1, 1, 0, 1, 1, 1, 1, 0, 0, 1, 0, 0, 0, 0, 0, 0, 1, 1, 1, 0, 0, 1, 1, 0, 1, 1, 0, 0, 1, 0, 1, 0, 1, 1, 1, 0, 0, 1, 0, 0, 0, 1, 0, 0, 0, 0, 0, 0, 1, 1, 1, 0, 1, 0, 1, 0, 1, 1, 0, 1, 1, 0, 1, 0, 0, 1, 0, 0, 0, 0, 0, 0, 1, 1, 0, 0, 0, 1, 1, 0, 1, 1, 0, 1, 0, 0, 1, 0, 1, 1, 0, 0, 1, 0, 1, 0, 1, 1, 0, 1, 1, 1, 0, 0, 1, 1, 1, 0, 1, 0, 0, 0, 1, 1, 0, 1, 0, 0, 1, 0, 1, 1, 1, 0, 0, 1, 1, 0, 1, 1, 1, 0, 1, 0, 0, 0, 1, 1, 0, 0, 0, 0, 1, 0, 0, 1, 0, 0, 0, 0, 0, 0, 1, 1, 0, 0, 1, 0, 0, 0, 1, 1, 0, 0, 1, 0, 1, 0, 0, 1, 0, 0, 0, 0, 0, 0, 1, 1, 0, 0, 1, 0, 0, 0, 1, 1, 0, 0, 0, 0, 1, 0, 1, 1, 0, 0, 1, 0, 0, 0, 1, 1, 0, 1, 1, 1, 1, 0, 1, 1, 1, 0, 0, 1, 1] \n",
        "\n",
        "l1.count(1)/len(l1)*100\n"
      ],
      "metadata": {
        "id": "NEq8mF7E6LKA"
      },
      "execution_count": null,
      "outputs": []
    },
    {
      "cell_type": "code",
      "source": [
        "lista = [{'Nome': 'laranja', 'preço': 6.0}, {'Nome': 'maça', 'preço': 4}, {'Nome': 'melancia', 'preço': 10.7}, {'Nome':'Melão', 'preço':8.2}]\n",
        "valores = []\n",
        "for i in lista:\n",
        "  print(i)\n",
        "  print(type(i))\n",
        "  for chave,valor in i.items():\n",
        "    print(chave, valor)\n",
        "    if chave == 'preço':\n",
        "      valores.append(valor)\n",
        "      \n",
        "sum(valores)/len(valores)\n",
        "\n",
        "\n",
        " "
      ],
      "metadata": {
        "id": "HAH1FdLV7wAl"
      },
      "execution_count": null,
      "outputs": []
    }
  ]
}