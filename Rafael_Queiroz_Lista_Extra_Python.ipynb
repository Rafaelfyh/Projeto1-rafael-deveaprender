{
  "cells": [
    {
      "cell_type": "markdown",
      "metadata": {
        "id": "view-in-github",
        "colab_type": "text"
      },
      "source": [
        "<a href=\"https://colab.research.google.com/github/Rafaelfyh/Projeto1-rafael-deveaprender/blob/main/Rafael_Queiroz_Lista_Extra_Python.ipynb\" target=\"_parent\"><img src=\"https://colab.research.google.com/assets/colab-badge.svg\" alt=\"Open In Colab\"/></a>"
      ]
    },
    {
      "cell_type": "markdown",
      "metadata": {
        "id": "t8qG28pDnfuM"
      },
      "source": [
        "# Exercícios - Python "
      ]
    },
    {
      "cell_type": "markdown",
      "metadata": {
        "id": "N9fXnHvPnfuN"
      },
      "source": [
        "1) Imprima a frase \"Eu sou Dexteeer!\""
      ]
    },
    {
      "cell_type": "code",
      "source": [
        " #Imprimir\n",
        "\n",
        "print('Eu sou Dexteer!')"
      ],
      "metadata": {
        "colab": {
          "base_uri": "https://localhost:8080/"
        },
        "id": "HbLtZRVZWi9q",
        "outputId": "3c57d87e-fe2f-4666-e573-e924bd4bb1b5"
      },
      "execution_count": null,
      "outputs": [
        {
          "output_type": "stream",
          "name": "stdout",
          "text": [
            "Eu sou Dexteer!\n"
          ]
        }
      ]
    },
    {
      "cell_type": "markdown",
      "metadata": {
        "id": "dK5aLDPDnfuO"
      },
      "source": [
        "2) Faça operações matemáticas de soma, subtração, multiplicação e divisão."
      ]
    },
    {
      "cell_type": "code",
      "source": [
        "# soma\n",
        "7+8"
      ],
      "metadata": {
        "id": "hGtyhd2bWkah",
        "colab": {
          "base_uri": "https://localhost:8080/"
        },
        "outputId": "59d8af1a-3287-4e45-864e-be3f48fd0550"
      },
      "execution_count": null,
      "outputs": [
        {
          "output_type": "execute_result",
          "data": {
            "text/plain": [
              "15"
            ]
          },
          "metadata": {},
          "execution_count": 12
        }
      ]
    },
    {
      "cell_type": "code",
      "source": [
        "# subtração\n",
        "\n",
        "7-8"
      ],
      "metadata": {
        "colab": {
          "base_uri": "https://localhost:8080/"
        },
        "id": "UeHQZYHEZ_9_",
        "outputId": "8ed626a9-a9d5-4279-fd1c-c2778f220dca"
      },
      "execution_count": null,
      "outputs": [
        {
          "output_type": "execute_result",
          "data": {
            "text/plain": [
              "-1"
            ]
          },
          "metadata": {},
          "execution_count": 13
        }
      ]
    },
    {
      "cell_type": "code",
      "source": [
        "# multiplicação\n",
        "7*8"
      ],
      "metadata": {
        "colab": {
          "base_uri": "https://localhost:8080/"
        },
        "id": "yeZQRS-jaHKa",
        "outputId": "133323bb-a4e8-406a-b360-b75c258d4ed5"
      },
      "execution_count": null,
      "outputs": [
        {
          "output_type": "execute_result",
          "data": {
            "text/plain": [
              "56"
            ]
          },
          "metadata": {},
          "execution_count": 14
        }
      ]
    },
    {
      "cell_type": "code",
      "source": [
        "# divisão\n",
        "7/8"
      ],
      "metadata": {
        "colab": {
          "base_uri": "https://localhost:8080/"
        },
        "id": "8tbguFLUaVx2",
        "outputId": "50ac8cf6-dbaf-4576-e7f5-2bf5d6d00bd5"
      },
      "execution_count": null,
      "outputs": [
        {
          "output_type": "execute_result",
          "data": {
            "text/plain": [
              "0.875"
            ]
          },
          "metadata": {},
          "execution_count": 15
        }
      ]
    },
    {
      "cell_type": "markdown",
      "metadata": {
        "id": "Y1hfyqi3nfuO"
      },
      "source": [
        "3) Imprima o tipo de um determinado valor inteiro."
      ]
    },
    {
      "cell_type": "code",
      "source": [
        "# número do tipo int\n",
        "a = 9\n",
        "print(a)\n",
        "print(type(a))"
      ],
      "metadata": {
        "id": "JrqqJt30Y3wG",
        "colab": {
          "base_uri": "https://localhost:8080/"
        },
        "outputId": "d23c5de3-8707-4eed-a8ba-862a1b64d5f2"
      },
      "execution_count": null,
      "outputs": [
        {
          "output_type": "stream",
          "name": "stdout",
          "text": [
            "9\n",
            "<class 'int'>\n"
          ]
        }
      ]
    },
    {
      "cell_type": "markdown",
      "metadata": {
        "id": "lpMenLb2nfuP"
      },
      "source": [
        "4) Converta o valor passado anteriormente para o tipo float"
      ]
    },
    {
      "cell_type": "code",
      "source": [
        "# float\n",
        "\n",
        "a = 9\n",
        "print(float(a))"
      ],
      "metadata": {
        "id": "Om3Ooq_jY4x-",
        "colab": {
          "base_uri": "https://localhost:8080/"
        },
        "outputId": "d2c52c38-ba0e-48cf-c212-c7429d152d79"
      },
      "execution_count": null,
      "outputs": [
        {
          "output_type": "stream",
          "name": "stdout",
          "text": [
            "9.0\n"
          ]
        }
      ]
    },
    {
      "cell_type": "markdown",
      "metadata": {
        "id": "L3naneHLnfuP"
      },
      "source": [
        "5) Faça a conversão do valor float recebido anteriormente para o tipo string"
      ]
    },
    {
      "cell_type": "code",
      "source": [
        "# string\n",
        "\n",
        "a = 9.0\n",
        "print(str(a))"
      ],
      "metadata": {
        "id": "n7hrX7q1Y5g4",
        "colab": {
          "base_uri": "https://localhost:8080/"
        },
        "outputId": "7f8828a3-ec23-4ba6-8c39-8930b6d2c1c8"
      },
      "execution_count": null,
      "outputs": [
        {
          "output_type": "stream",
          "name": "stdout",
          "text": [
            "9.0\n"
          ]
        }
      ]
    },
    {
      "cell_type": "markdown",
      "metadata": {
        "id": "DfN6mDVonfuQ"
      },
      "source": [
        "6) Utilizando funções de arredonamento faça:\n",
        "\n",
        "> Bloco com recuo\n",
        "\n",
        "\n",
        "- Arredonde o valor 2.898\n",
        "- Arredonde o valor 2.4545455 e exiba apenas 4 cadas decimais"
      ]
    },
    {
      "cell_type": "code",
      "source": [
        "# round\n",
        "\n",
        "a = 2.898\n",
        "b = 2.4545455\n",
        "\n",
        "print(round(a))\n",
        "print(f'{round(b,4)}')"
      ],
      "metadata": {
        "id": "jB5V0YzjjxcH",
        "colab": {
          "base_uri": "https://localhost:8080/"
        },
        "outputId": "3fb8ca90-4b78-4e61-c91e-3b621e060cb6"
      },
      "execution_count": null,
      "outputs": [
        {
          "output_type": "stream",
          "name": "stdout",
          "text": [
            "3\n",
            "2.4545\n"
          ]
        }
      ]
    },
    {
      "cell_type": "markdown",
      "metadata": {
        "id": "rKA0Gdl0nfuQ"
      },
      "source": [
        "7) Utilizando variáveis faça:\n",
        "- Defina uma variável com o seu nome e imprima o seu valor.\n",
        "- Imprima o tipo dessa variável.\n",
        "- Substitua o valor da sua variável nome com a concatenação do seu valor e o seu sobrenome, depois, imprima o novo valor.\n",
        "    - obs: O resultado dessa variável será Nome Sobrenome, exemplo, Felipe Santana.\n",
        "- Defina duas variaveis com os valores do seu email e idade com apenas uma linha de comando, depois, imprima seus valores."
      ]
    },
    {
      "cell_type": "code",
      "source": [
        "# variaveis\n",
        "\n",
        "primeiroNome = 'Rafael'\n",
        "sobrenome = 'Queiroz'\n",
        "nome = primeiroNome + ' ' + sobrenome\n",
        "\n",
        "print(nome)\n",
        "\n",
        "# email e Idade\n",
        "\n",
        "idade = '28'\n",
        "email = 'queiroz_rafael@hotmail.com'\n",
        "\n",
        "print( idade, email)\n"
      ],
      "metadata": {
        "id": "tciIW3QljyUg",
        "colab": {
          "base_uri": "https://localhost:8080/"
        },
        "outputId": "faf03d18-6683-4646-852d-b3e37fa685dd"
      },
      "execution_count": null,
      "outputs": [
        {
          "output_type": "stream",
          "name": "stdout",
          "text": [
            "Rafael Queiroz\n",
            "28 queiroz_rafael@hotmail.com\n"
          ]
        }
      ]
    },
    {
      "cell_type": "markdown",
      "metadata": {
        "id": "Xj8LZ11infuR"
      },
      "source": [
        "8) Explique a causa do erro se executar a seguinte instrução para criar uma nova variável: break=10"
      ]
    },
    {
      "cell_type": "code",
      "source": [
        "break é uma palavra reservada, não pode ser ultilizada para atribuição de variáveis."
      ],
      "metadata": {
        "id": "BpqC9uPOkU2a"
      },
      "execution_count": null,
      "outputs": []
    },
    {
      "cell_type": "markdown",
      "metadata": {
        "id": "UipeTegTnfuS"
      },
      "source": [
        "9) Sobre os objetos Strings, faça:\n",
        "- Defina uma variavel com a string: \"Python é uma maldição!\" e imprima\n",
        "- Imprima o primeiro caracter da variavel.\n",
        "- Imprima os valores do primeiro caracter até o 6.\n",
        "- Faça a contagem de todos os caracteres utilizando uma única linha de comando.\n",
        "- Faça uma contagem de quantos vezes a palavra dados aparece na seguinte frase:\n",
        "    - \"dados é o novo petróleo, em Deus eu confio, para o resto me traga dados..\"\n",
        "- Substitua o primeiro caracter da frase acima para maiúsculo\n",
        "- Quebre as palavras da frase separado por virgula, criando uma lista."
      ]
    },
    {
      "cell_type": "code",
      "source": [
        "a = 'Python é uma maldição!'\n",
        "print(a[0:1]) \n",
        "print(a[0:6])\n",
        "print(len(a))\n",
        "d = 'dados é o novo petróleo, em Deus eu confio, para o resto me traga dados'\n",
        "d.count('dados')\n",
        "d.capitalize()\n",
        "print(d.capitalize ())\n",
        "d.split(sep=',')\n",
        "print(d.split(sep=','))\n",
        "\n"
      ],
      "metadata": {
        "id": "w3foeTQ8kVd0",
        "colab": {
          "base_uri": "https://localhost:8080/"
        },
        "outputId": "f24837fa-b7c8-4267-88dd-5854c3249d4b"
      },
      "execution_count": null,
      "outputs": [
        {
          "output_type": "stream",
          "name": "stdout",
          "text": [
            "P\n",
            "Python\n",
            "22\n",
            "Dados é o novo petróleo, em deus eu confio, para o resto me traga dados\n",
            "['dados é o novo petróleo', ' em Deus eu confio', ' para o resto me traga dados']\n"
          ]
        }
      ]
    },
    {
      "cell_type": "markdown",
      "metadata": {
        "id": "sOfK05ypnfuS"
      },
      "source": [
        "10) Trabalhando com Listas, faça:\n",
        "- Cria uma lista de valores inteiros com o nome idades.\n",
        "- Imprima apenas segundo elemento da lista.\n",
        "- Imprima a contagem de valores da lista.\n",
        "- Substitua o valor do segundo elemento da lista e imprima o resultado.\n",
        "- Imprima apenas os valores do segundo elemento em diante.\n",
        "- Remova qualquer elemento da lista e imprima o resultado.\n",
        "- Defina uma lista chamada salarios com os valores : 900,1200,1500,800,12587,10000.\n",
        "- Verifique se contém o valor 10000 na lista de salarios.\n",
        "- Imprima o menor e maior valor da lista.\n",
        "- Adicione o valor 7000 a lista.\n",
        "- Extenda a lista com dois novos elementos utilizando apenas um método.\n",
        "- Imprima o índice do elemento de valor 800 da lista de salarios.\n",
        "- Faça uma ordenação dos valores da lista de salarios em ordem crescente e decrescente."
      ]
    },
    {
      "cell_type": "code",
      "source": [
        "# list\n",
        "\n",
        "#Cria uma lista de valores inteiros com o nome idades.\n",
        "l1 = [26, 28, 32, 40, 45]\n",
        "print(l1)\n",
        "#Imprima apenas segundo elemento da lista.\n",
        "l1[1]\n",
        "print(l1[1])\n",
        "#Imprima a contagem de valores da lista.\n",
        "qtdOriginal = len(l1)\n",
        "print(qtdOriginal)\n",
        "#Substitua o valor do segundo elemento da lista e imprima o resultado.\n",
        "l1[1] = 4\n",
        "print(l1)\n",
        "#Imprima apenas os valores do segundo elemento em diante.\n",
        "l1[1:]\n",
        "print(l1[1:])\n",
        "#Remova qualquer elemento da lista e imprima o resultado.\n",
        "l1.remove(40)\n",
        "print(l1)\n",
        "\n",
        "#lista de salario\n",
        "#Defina uma lista chamada salarios com os valores : 900,1200,1500,800,12587,10000\n",
        "lista = [900, 1200, 1500,800, 12587, 10000]\n",
        "print(lista)\n",
        "#Verifique se contém o valor 10000 na lista de salarios.\n",
        "valor_que_eu_quero = 10000\n",
        "   \n",
        "if valor_que_eu_quero in lista:\n",
        "\tprint('achou')\n",
        "else:\n",
        "\tprint('não achou')\n",
        "\n",
        "\n",
        "#Adicione o valor 7000 a lista.\n",
        "lista.append(7000)\n",
        "#Extenda a lista com dois novos elementos utilizando apenas um método.\n",
        "l2 = [1020,3020]\n",
        "lista.extend(l2)\n",
        "\n",
        "#Imprima o índice do elemento de valor 800 da lista de salarios.\n",
        "lista.index(800)\n",
        "#Faça uma ordenação dos valores da lista de salarios em ordem crescente e decrescente.\n",
        "sort1 = sorted(lista)\n",
        "print(sort1)\n",
        "sort2 = lista.sort()\n",
        "print(sort2)\n",
        "print(lista)\n",
        "lista.sort(reverse = True)\n",
        "print(lista)"
      ],
      "metadata": {
        "id": "e0wDVNiMkWU_",
        "colab": {
          "base_uri": "https://localhost:8080/"
        },
        "outputId": "dff9a3bd-fea9-4ad4-89a1-afcdbe03c6df"
      },
      "execution_count": null,
      "outputs": [
        {
          "output_type": "stream",
          "name": "stdout",
          "text": [
            "[26, 28, 32, 40, 45]\n",
            "28\n",
            "5\n",
            "[26, 4, 32, 40, 45]\n",
            "[4, 32, 40, 45]\n",
            "[26, 4, 32, 45]\n",
            "[900, 1200, 1500, 800, 12587, 10000]\n",
            "achou\n",
            "[800, 900, 1020, 1200, 1500, 3020, 7000, 10000, 12587]\n",
            "None\n",
            "[800, 900, 1020, 1200, 1500, 3020, 7000, 10000, 12587]\n",
            "[12587, 10000, 7000, 3020, 1500, 1200, 1020, 900, 800]\n"
          ]
        }
      ]
    }
  ],
  "metadata": {
    "colab": {
      "name": "Rafael Queiroz  Lista Extra - Python.ipynb",
      "provenance": [],
      "collapsed_sections": [],
      "include_colab_link": true
    },
    "kernelspec": {
      "display_name": "Python 3",
      "language": "python",
      "name": "python3"
    },
    "language_info": {
      "codemirror_mode": {
        "name": "ipython",
        "version": 3
      },
      "file_extension": ".py",
      "mimetype": "text/x-python",
      "name": "python",
      "nbconvert_exporter": "python",
      "pygments_lexer": "ipython3",
      "version": "3.6.5"
    }
  },
  "nbformat": 4,
  "nbformat_minor": 0
}