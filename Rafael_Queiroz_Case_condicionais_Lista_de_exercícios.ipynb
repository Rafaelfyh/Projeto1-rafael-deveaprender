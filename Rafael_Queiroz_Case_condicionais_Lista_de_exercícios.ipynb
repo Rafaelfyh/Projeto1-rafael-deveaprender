{
  "nbformat": 4,
  "nbformat_minor": 0,
  "metadata": {
    "colab": {
      "name": "Rafael Queiroz - Case condicionais - Lista de exercícios ",
      "private_outputs": true,
      "provenance": [],
      "collapsed_sections": [],
      "authorship_tag": "ABX9TyM1cTP9T91DJURIoc0as+8y",
      "include_colab_link": true
    },
    "kernelspec": {
      "name": "python3",
      "display_name": "Python 3"
    },
    "language_info": {
      "name": "python"
    }
  },
  "cells": [
    {
      "cell_type": "markdown",
      "metadata": {
        "id": "view-in-github",
        "colab_type": "text"
      },
      "source": [
        "<a href=\"https://colab.research.google.com/github/Rafaelfyh/Projeto1-rafael-deveaprender/blob/main/Rafael_Queiroz_Case_condicionais_Lista_de_exerc%C3%ADcios.ipynb\" target=\"_parent\"><img src=\"https://colab.research.google.com/assets/colab-badge.svg\" alt=\"Open In Colab\"/></a>"
      ]
    },
    {
      "cell_type": "code",
      "source": [
        ""
      ],
      "metadata": {
        "id": "6rzfBhz1Txi5"
      },
      "execution_count": null,
      "outputs": []
    },
    {
      "cell_type": "markdown",
      "source": [
        "Você deverá utilizar o que aprendeu nas aulas de condicionais para\n",
        "desenvolver os desafios a seguir:\n",
        "1. Seu primeiro desafio é desenvolver um programa para um depósito de\n",
        "bebidas que valide venda de bebidas para maiores de idade (maior ou\n",
        "igual 18 anos) no mercado, o programa deve receber do usuário os\n",
        "valores do nome e ano que ele nasceu e retornar se ele pode comprar\n",
        "bebidas.\n",
        "2. Esse bimestre na faculdade você precisa tirar nota 8 de média para\n",
        "passar na matéria, desenvolva um script que leia a nota de suas\n",
        "últimas 3 provas, tire a média delas e verifique se você passou.\n",
        "3. A fisioterapeuta que você vai gosta muito de brincar com números, e\n",
        "pediu para você criar um sistema que verifique se a altura inserida é\n",
        "par ou impar.\n",
        "4. Faça um script que você coloque a quantidade de dias e descubra em\n",
        "qual trimestre esse dia está no ano.\n",
        "5. Desenvolva um sistema que leia 3 números e diga qual é o maior (se\n",
        "houver empate, exiba os empatados)."
      ],
      "metadata": {
        "id": "qRdVcGHKppNN"
      }
    },
    {
      "cell_type": "code",
      "execution_count": null,
      "metadata": {
        "id": "1sU9QDXFpUs_"
      },
      "outputs": [],
      "source": [
        "#venda de bebibas >= 18\n",
        "a = input('Digite o seu nome: ')\n",
        "b = int(input('Digite o ano que você nasceu: '))\n",
        "\n",
        "if 2022 - b >= 18:    \n",
        "  print(a)\n",
        "  print(b)\n",
        "  print('maior de idade')\n",
        "else:\n",
        "  print('menor de idade não pode comprar bebidas')\n",
        "  "
      ]
    },
    {
      "cell_type": "markdown",
      "source": [
        "2. Esse bimestre na faculdade você precisa tirar nota 8 de média para passar na matéria, desenvolva um script que leia a nota de suas últimas 3 provas, tire a média delas e verifique se você passou."
      ],
      "metadata": {
        "id": "uTE2LwzVqyhs"
      }
    },
    {
      "cell_type": "code",
      "source": [
        "# Esse bimestre na faculdade você precisa tirar nota 8 de média\n",
        "nota1 = float(input('nota1: '))\n",
        "nota2 = float(input('nota2: '))\n",
        "nota3 = float(input('nota3: '))\n",
        "media = (nota1 + nota2 + nota3) / 3\n",
        "\n",
        "if media >= 8:\n",
        "\tprint('passou')\n",
        "else:\n",
        "  print('não passou')\n",
        "\n"
      ],
      "metadata": {
        "id": "oHw22dztauNJ"
      },
      "execution_count": null,
      "outputs": []
    },
    {
      "cell_type": "markdown",
      "source": [
        "3. A fisioterapeuta que você vai gosta muito de brincar com números, e\n",
        "pediu para você criar um sistema que verifique se a altura inserida é\n",
        "par ou impar.\n"
      ],
      "metadata": {
        "id": "CrUqPpVBim7G"
      }
    },
    {
      "cell_type": "code",
      "source": [
        "número = int(input('Me diga qual sua altura: '))\n",
        "resultado = número % 2\n",
        "print('O resultado foi {}'.format(resultado))\n",
        "if resultado == 0:\n",
        "  print('A altura é {} é PAR'.format(número))\n",
        "else:\n",
        "  print('A altura é {} é ÍMPAR'.format(número))  "
      ],
      "metadata": {
        "id": "C9CEvoOwioYV"
      },
      "execution_count": null,
      "outputs": []
    },
    {
      "cell_type": "markdown",
      "source": [
        "4. Faça um script que você coloque a quantidade de dias e descubra em\n",
        "qual trimestre esse dia está no ano."
      ],
      "metadata": {
        "id": "UjcLfK9mrBWB"
      }
    },
    {
      "cell_type": "code",
      "source": [
        "ano = int(input('Digite o ano que deseja consultar: '))\n",
        "\n",
        "if(ano%4==0 and ano%100!=0) or (ano%400==0):\n",
        "   bissexto = 1\n",
        "   print('Esse é um ano bissexto.')\n",
        "   numDias = int(input('Digite o número de dias que deseja consultar (1 a 366): '))\n",
        "else:\n",
        "   bissexto = 0\n",
        "   print('Esse não é um ano bissexto.')\n",
        "   numDias = int(input('Digite o número de dias que deseja consultar (1 a 365): '))\n",
        "\n",
        "\n",
        "if numDias >= 1 and numDias <= (90 + bissexto):\n",
        "    print('Esse dia está no primeiro trimestre')\n",
        "elif numDias > (90 + bissexto) and numDias <= (151 + bissexto):\n",
        "    print('Esse dia está no segundo trimestre')\n",
        "elif numDias > (151 + bissexto) and numDias <= (243 + bissexto):\n",
        "    print('Esse dia está no terceiro trimestre')\n",
        "elif numDias > (244 + bissexto) and numDias <= (365 + bissexto):\n",
        "    print('Esse dia está no quarto trimestre')\n",
        "else:\n",
        "    print('Erro. Digite um número válido')   "
      ],
      "metadata": {
        "id": "Jjp_rDOLrIoY"
      },
      "execution_count": null,
      "outputs": []
    },
    {
      "cell_type": "markdown",
      "source": [
        "Desenvolva um sistema que leia 3 números e diga qual é o maior (se houver empate, exiba os empatados).\n"
      ],
      "metadata": {
        "id": "m9cCEIm0nTsZ"
      }
    },
    {
      "cell_type": "code",
      "source": [
        "numero1 = int(input('Digite um número: '))\n",
        "numero2 = int(input('Digite um número: '))\n",
        "numero3 = int(input('Digite um número: '))\n",
        "\n",
        "def encontrar_o_maior(numero1, numero2, numero3):\n",
        "  numeromaior = 0\n",
        "  if numero1 >= numero2 and numero1 >= numero3:\n",
        "    print(numero1)\n",
        "    numeromaior =  numero1\n",
        "  elif numero2 >= numero3 and numero2 >= numero1:\n",
        "    print(numero2)\n",
        "    numeromaior = numero2\n",
        "  elif numero3 >= numero1 and numero3 >= numero2:\n",
        "    print(numero3)\n",
        "    numeromaior = numero3\n",
        "  if numeromaior == numero1 or numeromaior == numero2 or numeromaior == numero3:\n",
        "    if numeromaior == numero1 == numero2:\n",
        "      print('empate entre numero1 e numero2')\n",
        "    elif numeromaior == numero2 == numero3:\n",
        "      print('empate entre numero2 e numero3')\n",
        "    elif numeromaior == numero3 == numero1:\n",
        "      print('empate entre numero3 e numero1')\n",
        "\n",
        "\n",
        "encontrar_o_maior(numero1, numero2, numero3)\n",
        "\n"
      ],
      "metadata": {
        "id": "xmtgaGGFAcR_"
      },
      "execution_count": null,
      "outputs": []
    },
    {
      "cell_type": "markdown",
      "source": [
        ""
      ],
      "metadata": {
        "id": "ygDTsDLmStYf"
      }
    }
  ]
}